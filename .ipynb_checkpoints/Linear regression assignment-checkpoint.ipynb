{
 "cells": [
  {
   "cell_type": "code",
   "execution_count": 2,
   "metadata": {},
   "outputs": [],
   "source": [
    "import pandas as pd\n",
    "import matplotlib.pyplot as plt   \n",
    "%matplotlib inline\n",
    "import statsmodels.api as sm\n",
    "from sklearn.model_selection import train_test_split\n",
    "import numpy as np"
   ]
  },
  {
   "cell_type": "code",
   "execution_count": 3,
   "metadata": {},
   "outputs": [],
   "source": [
    "df = pd.read_csv('salary.csv')"
   ]
  },
  {
   "cell_type": "code",
   "execution_count": 4,
   "metadata": {},
   "outputs": [],
   "source": [
    "df = df.dropna(how='any',axis=0)"
   ]
  },
  {
   "cell_type": "code",
   "execution_count": 23,
   "metadata": {},
   "outputs": [],
   "source": [
    "X = df[['salary', 'exprior', 'yearsrank','market', 'degree', 'otherqual', 'position', 'male', 'Field','yearsabs' ]]\n",
    "y = df['yearsworked']"
   ]
  },
  {
   "cell_type": "code",
   "execution_count": 33,
   "metadata": {},
   "outputs": [],
   "source": [
    "X = sm.add_constant(X)"
   ]
  },
  {
   "cell_type": "code",
   "execution_count": 34,
   "metadata": {},
   "outputs": [],
   "source": [
    "X_train, X_test, y_train, y_test = train_test_split(X, y, test_size=0.3)"
   ]
  },
  {
   "cell_type": "code",
   "execution_count": 35,
   "metadata": {},
   "outputs": [],
   "source": [
    "model = sm.OLS(y_train,X_train).fit()"
   ]
  },
  {
   "cell_type": "code",
   "execution_count": 36,
   "metadata": {},
   "outputs": [],
   "source": [
    "predictions = model.predict(X_train)"
   ]
  },
  {
   "cell_type": "code",
   "execution_count": 37,
   "metadata": {},
   "outputs": [
    {
     "name": "stdout",
     "output_type": "stream",
     "text": [
      "                            OLS Regression Results                            \n",
      "==============================================================================\n",
      "Dep. Variable:            yearsworked   R-squared:                       0.901\n",
      "Model:                            OLS   Adj. R-squared:                  0.899\n",
      "Method:                 Least Squares   F-statistic:                     318.1\n",
      "Date:                Tue, 26 Mar 2019   Prob (F-statistic):          2.31e-168\n",
      "Time:                        10:52:35   Log-Likelihood:                -900.00\n",
      "No. Observations:                 359   AIC:                             1822.\n",
      "Df Residuals:                     348   BIC:                             1865.\n",
      "Df Model:                          10                                         \n",
      "Covariance Type:            nonrobust                                         \n",
      "==============================================================================\n",
      "                 coef    std err          t      P>|t|      [0.025      0.975]\n",
      "------------------------------------------------------------------------------\n",
      "const         -0.2115      1.604     -0.132      0.895      -3.367       2.944\n",
      "salary     -3.787e-05   2.86e-05     -1.326      0.186   -9.41e-05    1.83e-05\n",
      "exprior       -0.5359      0.036    -14.791      0.000      -0.607      -0.465\n",
      "yearsrank      0.7702      0.036     21.341      0.000       0.699       0.841\n",
      "market        -2.5252      1.480     -1.706      0.089      -5.436       0.386\n",
      "degree        -1.8797      0.833     -2.258      0.025      -3.517      -0.242\n",
      "otherqual     -2.0005      0.902     -2.217      0.027      -3.775      -0.226\n",
      "position       6.3784      0.315     20.218      0.000       5.758       6.999\n",
      "male           2.0035      0.554      3.618      0.000       0.914       3.093\n",
      "Field          0.0054      0.165      0.032      0.974      -0.319       0.330\n",
      "yearsabs       0.0550      0.014      3.819      0.000       0.027       0.083\n",
      "==============================================================================\n",
      "Omnibus:                      102.643   Durbin-Watson:                   1.938\n",
      "Prob(Omnibus):                  0.000   Jarque-Bera (JB):              260.695\n",
      "Skew:                           1.377   Prob(JB):                     2.46e-57\n",
      "Kurtosis:                       6.138   Cond. No.                     6.49e+05\n",
      "==============================================================================\n",
      "\n",
      "Warnings:\n",
      "[1] Standard Errors assume that the covariance matrix of the errors is correctly specified.\n",
      "[2] The condition number is large, 6.49e+05. This might indicate that there are\n",
      "strong multicollinearity or other numerical problems.\n"
     ]
    }
   ],
   "source": [
    "print_model = model.summary()\n",
    "print(print_model)"
   ]
  },
  {
   "cell_type": "markdown",
   "metadata": {},
   "source": [
    "### Does the model significantly predicts the dependent variable? Report the amount of variance explained (R^2) and significance value (p) to support your answer.\n",
    "\n",
    "The model significantly predicts the dependent variable. This is shown from variance (R^2) 0.967(higher value generally indicates a better fit) with a p value of 0.106(less than 0.05 is considered to be statistically significant)\n",
    "\n",
    "\n",
    "### What percentage of the variance in employees’ salaries is accounted for by the number of years they have worked?\n",
    "\n",
    "\n"
   ]
  },
  {
   "cell_type": "markdown",
   "metadata": {},
   "source": [
    "### What does the unstandardized coefficient (B or 'coef' in statsmodels) tell you about the relationship between Years Worked and Salary?\n",
    "The coeffecient is -3.787e-05 this means"
   ]
  },
  {
   "cell_type": "markdown",
   "metadata": {},
   "source": [
    "### What do the 95% confidence intervals [0.025, 0.975] mean?"
   ]
  },
  {
   "cell_type": "markdown",
   "metadata": {},
   "source": [
    "### Calculate the expected salary for someone with 12 years’ work experience."
   ]
  },
  {
   "cell_type": "markdown",
   "metadata": {},
   "source": [
    "### Calculate the expected salary for someone with 80 years’ work experience. Are there any problems with this prediction? If so, what are they?"
   ]
  },
  {
   "cell_type": "markdown",
   "metadata": {},
   "source": [
    "### We have only looked at the number of years an employee has worked. What other employee characteristics might influence their salary?"
   ]
  },
  {
   "cell_type": "markdown",
   "metadata": {},
   "source": [
    "### How does your model compare when running it on the test set - what is the difference in the Root Mean Square Error (RMSE) between the training and test sets?"
   ]
  },
  {
   "cell_type": "code",
   "execution_count": 44,
   "metadata": {},
   "outputs": [],
   "source": [
    "test_model = sm.OLS(y_test,X_test).fit()"
   ]
  },
  {
   "cell_type": "code",
   "execution_count": null,
   "metadata": {},
   "outputs": [],
   "source": [
    "print_model = test_model.summary()\n",
    "print(print_model)"
   ]
  }
 ],
 "metadata": {
  "kernelspec": {
   "display_name": "Python 3",
   "language": "python",
   "name": "python3"
  },
  "language_info": {
   "codemirror_mode": {
    "name": "ipython",
    "version": 3
   },
   "file_extension": ".py",
   "mimetype": "text/x-python",
   "name": "python",
   "nbconvert_exporter": "python",
   "pygments_lexer": "ipython3",
   "version": "3.6.7"
  }
 },
 "nbformat": 4,
 "nbformat_minor": 2
}
