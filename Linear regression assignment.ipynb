{
 "cells": [
  {
   "cell_type": "code",
   "execution_count": 17,
   "metadata": {},
   "outputs": [],
   "source": [
    "import pandas as pd\n",
    "import matplotlib.pyplot as plt   \n",
    "%matplotlib inline\n",
    "import statsmodels.api as sm\n",
    "from sklearn.model_selection import train_test_split\n",
    "import numpy as np\n",
    "import statsmodels.formula.api as smf"
   ]
  },
  {
   "cell_type": "code",
   "execution_count": 18,
   "metadata": {},
   "outputs": [],
   "source": [
    "df = pd.read_csv('salary.csv')"
   ]
  },
  {
   "cell_type": "code",
   "execution_count": 19,
   "metadata": {},
   "outputs": [],
   "source": [
    "df = df.dropna(how='any',axis=0)"
   ]
  },
  {
   "cell_type": "code",
   "execution_count": 20,
   "metadata": {},
   "outputs": [],
   "source": [
    "train, test = train_test_split(df, test_size=0.3)"
   ]
  },
  {
   "cell_type": "code",
   "execution_count": 21,
   "metadata": {},
   "outputs": [],
   "source": [
    "X_train = train['yearsworked']\n",
    "y_train = train['salary']"
   ]
  },
  {
   "cell_type": "code",
   "execution_count": 22,
   "metadata": {},
   "outputs": [],
   "source": [
    "model = sm.OLS(y_train,X_train).fit()"
   ]
  },
  {
   "cell_type": "code",
   "execution_count": 23,
   "metadata": {},
   "outputs": [
    {
     "name": "stdout",
     "output_type": "stream",
     "text": [
      "                            OLS Regression Results                            \n",
      "==============================================================================\n",
      "Dep. Variable:                 salary   R-squared:                       0.756\n",
      "Model:                            OLS   Adj. R-squared:                  0.756\n",
      "Method:                 Least Squares   F-statistic:                     1111.\n",
      "Date:                Thu, 28 Mar 2019   Prob (F-statistic):          8.90e-112\n",
      "Time:                        06:26:18   Log-Likelihood:                -4157.4\n",
      "No. Observations:                 359   AIC:                             8317.\n",
      "Df Residuals:                     358   BIC:                             8321.\n",
      "Df Model:                           1                                         \n",
      "Covariance Type:            nonrobust                                         \n",
      "===============================================================================\n",
      "                  coef    std err          t      P>|t|      [0.025      0.975]\n",
      "-------------------------------------------------------------------------------\n",
      "yearsworked  2831.1430     84.950     33.327      0.000    2664.079    2998.207\n",
      "==============================================================================\n",
      "Omnibus:                        5.969   Durbin-Watson:                   1.487\n",
      "Prob(Omnibus):                  0.051   Jarque-Bera (JB):                3.755\n",
      "Skew:                           0.027   Prob(JB):                        0.153\n",
      "Kurtosis:                       2.502   Cond. No.                         1.00\n",
      "==============================================================================\n",
      "\n",
      "Warnings:\n",
      "[1] Standard Errors assume that the covariance matrix of the errors is correctly specified.\n"
     ]
    }
   ],
   "source": [
    "print_model = model.summary()\n",
    "print(print_model)"
   ]
  },
  {
   "cell_type": "markdown",
   "metadata": {},
   "source": [
    "### Does the model significantly predicts the dependent variable? Report the amount of variance explained (R^2) and significance value (p) to support your answer.\n",
    "\n",
    "The model significantly predicts the dependent variable. This is shown from variance (R^2) 0.766(higher value generally indicates a better fit) with a p value of 0.000... (less than 0.05 is considered to be statistically significant)\n",
    "\n",
    "\n",
    "### What percentage of the variance in employees’ salaries is accounted for by the number of years they have worked?\n",
    "76.5%\n",
    "\n"
   ]
  },
  {
   "cell_type": "markdown",
   "metadata": {},
   "source": [
    "### What does the unstandardized coefficient (B or 'coef' in statsmodels) tell you about the relationship between Years Worked and Salary?\n",
    "The coeffecient is 2840.5341 this means that when salary increases by 1, the number of salary increases by 2840.5341"
   ]
  },
  {
   "cell_type": "markdown",
   "metadata": {},
   "source": [
    "### What do the 95% confidence intervals [0.025, 0.975] mean?"
   ]
  },
  {
   "cell_type": "markdown",
   "metadata": {},
   "source": [
    "It shows the amount you would expect at a 95% confidence level. "
   ]
  },
  {
   "cell_type": "markdown",
   "metadata": {},
   "source": [
    "### Calculate the expected salary for someone with 12 years’ work experience."
   ]
  },
  {
   "cell_type": "code",
   "execution_count": 27,
   "metadata": {
    "scrolled": false
   },
   "outputs": [
    {
     "data": {
      "text/plain": [
       "446    19818.001214\n",
       "86     11324.572122\n",
       "87     19818.001214\n",
       "214    42467.145459\n",
       "242    62285.146674\n",
       "302    53791.717582\n",
       "327    65116.289704\n",
       "22      2831.143031\n",
       "331    82103.147888\n",
       "110    25480.287276\n",
       "469    36804.859398\n",
       "373    84934.290919\n",
       "35         0.000000\n",
       "286    67947.432735\n",
       "130    56622.860612\n",
       "149    36804.859398\n",
       "460    33973.716367\n",
       "328    67947.432735\n",
       "19      5662.286061\n",
       "432    19818.001214\n",
       "229    56622.860612\n",
       "233    59454.003643\n",
       "131    19818.001214\n",
       "427        0.000000\n",
       "122    33973.716367\n",
       "75     14155.715153\n",
       "174    16986.858184\n",
       "198    56622.860612\n",
       "179    25480.287276\n",
       "187    31142.573337\n",
       "           ...     \n",
       "163    36804.859398\n",
       "346    76440.861827\n",
       "182     8493.429092\n",
       "85     22649.144245\n",
       "433    19818.001214\n",
       "246    67947.432735\n",
       "97     16986.858184\n",
       "32         0.000000\n",
       "513    70778.575766\n",
       "375    62285.146674\n",
       "4       5662.286061\n",
       "275    65116.289704\n",
       "269    62285.146674\n",
       "442    22649.144245\n",
       "119    16986.858184\n",
       "88     31142.573337\n",
       "41         0.000000\n",
       "307    67947.432735\n",
       "389     5662.286061\n",
       "297    65116.289704\n",
       "251    73609.718796\n",
       "145    19818.001214\n",
       "244    39636.002429\n",
       "368    79272.004857\n",
       "411     5662.286061\n",
       "151    39636.002429\n",
       "82      5662.286061\n",
       "292    70778.575766\n",
       "464    36804.859398\n",
       "261    67947.432735\n",
       "Length: 359, dtype: float64"
      ]
     },
     "execution_count": 27,
     "metadata": {},
     "output_type": "execute_result"
    }
   ],
   "source": [
    "model.predict(X_train[12])"
   ]
  },
  {
   "cell_type": "code",
   "execution_count": null,
   "metadata": {},
   "outputs": [],
   "source": []
  },
  {
   "cell_type": "markdown",
   "metadata": {},
   "source": [
    "### Calculate the expected salary for someone with 80 years’ work experience. Are there any problems with this prediction? If so, what are they?"
   ]
  },
  {
   "cell_type": "markdown",
   "metadata": {},
   "source": [
    "### We have only looked at the number of years an employee has worked. What other employee characteristics might influence their salary?"
   ]
  },
  {
   "cell_type": "markdown",
   "metadata": {},
   "source": [
    "### How does your model compare when running it on the test set - what is the difference in the Root Mean Square Error (RMSE) between the training and test sets?"
   ]
  },
  {
   "cell_type": "code",
   "execution_count": 24,
   "metadata": {},
   "outputs": [],
   "source": [
    "X_test = test['yearsworked']\n",
    "y_test= test['salary']"
   ]
  },
  {
   "cell_type": "code",
   "execution_count": 25,
   "metadata": {},
   "outputs": [],
   "source": [
    "test_model = sm.OLS(y_test,X_test).fit()"
   ]
  },
  {
   "cell_type": "code",
   "execution_count": 26,
   "metadata": {},
   "outputs": [
    {
     "name": "stdout",
     "output_type": "stream",
     "text": [
      "                            OLS Regression Results                            \n",
      "==============================================================================\n",
      "Dep. Variable:                 salary   R-squared:                       0.766\n",
      "Model:                            OLS   Adj. R-squared:                  0.764\n",
      "Method:                 Least Squares   F-statistic:                     499.7\n",
      "Date:                Thu, 28 Mar 2019   Prob (F-statistic):           4.65e-50\n",
      "Time:                        06:26:18   Log-Likelihood:                -1780.2\n",
      "No. Observations:                 154   AIC:                             3562.\n",
      "Df Residuals:                     153   BIC:                             3565.\n",
      "Df Model:                           1                                         \n",
      "Covariance Type:            nonrobust                                         \n",
      "===============================================================================\n",
      "                  coef    std err          t      P>|t|      [0.025      0.975]\n",
      "-------------------------------------------------------------------------------\n",
      "yearsworked  2953.0398    132.099     22.355      0.000    2692.067    3214.012\n",
      "==============================================================================\n",
      "Omnibus:                        5.487   Durbin-Watson:                   1.491\n",
      "Prob(Omnibus):                  0.064   Jarque-Bera (JB):                3.271\n",
      "Skew:                          -0.151   Prob(JB):                        0.195\n",
      "Kurtosis:                       2.353   Cond. No.                         1.00\n",
      "==============================================================================\n",
      "\n",
      "Warnings:\n",
      "[1] Standard Errors assume that the covariance matrix of the errors is correctly specified.\n"
     ]
    }
   ],
   "source": [
    "print_test_model = test_model.summary()\n",
    "print(print_test_model)"
   ]
  },
  {
   "cell_type": "code",
   "execution_count": null,
   "metadata": {},
   "outputs": [],
   "source": []
  }
 ],
 "metadata": {
  "kernelspec": {
   "display_name": "Python 3",
   "language": "python",
   "name": "python3"
  },
  "language_info": {
   "codemirror_mode": {
    "name": "ipython",
    "version": 3
   },
   "file_extension": ".py",
   "mimetype": "text/x-python",
   "name": "python",
   "nbconvert_exporter": "python",
   "pygments_lexer": "ipython3",
   "version": "3.7.2+"
  }
 },
 "nbformat": 4,
 "nbformat_minor": 2
}
