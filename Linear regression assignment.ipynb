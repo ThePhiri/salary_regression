{
 "cells": [
  {
   "cell_type": "code",
   "execution_count": 2,
   "metadata": {},
   "outputs": [],
   "source": [
    "import pandas as pd\n",
    "import matplotlib.pyplot as plt   \n",
    "%matplotlib inline\n",
    "import statsmodels.api as sm\n",
    "from sklearn.model_selection import train_test_split\n",
    "import numpy as np"
   ]
  },
  {
   "cell_type": "code",
   "execution_count": 3,
   "metadata": {},
   "outputs": [],
   "source": [
    "df = pd.read_csv('salary.csv')"
   ]
  },
  {
   "cell_type": "code",
   "execution_count": 4,
   "metadata": {},
   "outputs": [],
   "source": [
    "df = df.dropna(how='any',axis=0)"
   ]
  },
  {
   "cell_type": "code",
   "execution_count": 23,
   "metadata": {},
   "outputs": [],
   "source": [
    "X = df[['salary', 'exprior', 'yearsrank','market', 'degree', 'otherqual', 'position', 'male', 'Field','yearsabs' ]]\n",
    "y = df['yearsworked']"
   ]
  },
  {
   "cell_type": "code",
   "execution_count": 28,
   "metadata": {},
   "outputs": [],
   "source": [
    "X_train, X_test, y_train, y_test = train_test_split(X, y, test_size=0.3)"
   ]
  },
  {
   "cell_type": "code",
   "execution_count": 30,
   "metadata": {},
   "outputs": [],
   "source": [
    "model = sm.OLS(y_train,X_train).fit()"
   ]
  },
  {
   "cell_type": "code",
   "execution_count": 31,
   "metadata": {},
   "outputs": [],
   "source": [
    "predictions = model.predict(X_train)"
   ]
  },
  {
   "cell_type": "code",
   "execution_count": 32,
   "metadata": {},
   "outputs": [
    {
     "name": "stdout",
     "output_type": "stream",
     "text": [
      "                            OLS Regression Results                            \n",
      "==============================================================================\n",
      "Dep. Variable:            yearsworked   R-squared:                       0.967\n",
      "Model:                            OLS   Adj. R-squared:                  0.966\n",
      "Method:                 Least Squares   F-statistic:                     1034.\n",
      "Date:                Tue, 26 Mar 2019   Prob (F-statistic):          1.71e-252\n",
      "Time:                        09:56:25   Log-Likelihood:                -893.78\n",
      "No. Observations:                 359   AIC:                             1808.\n",
      "Df Residuals:                     349   BIC:                             1846.\n",
      "Df Model:                          10                                         \n",
      "Covariance Type:            nonrobust                                         \n",
      "==============================================================================\n",
      "                 coef    std err          t      P>|t|      [0.025      0.975]\n",
      "------------------------------------------------------------------------------\n",
      "salary     -4.497e-05   2.78e-05     -1.619      0.106   -9.96e-05    9.68e-06\n",
      "exprior       -0.5363      0.035    -15.465      0.000      -0.604      -0.468\n",
      "yearsrank      0.8086      0.035     22.898      0.000       0.739       0.878\n",
      "market        -2.0726      1.241     -1.670      0.096      -4.513       0.368\n",
      "degree        -0.8837      0.721     -1.226      0.221      -2.301       0.534\n",
      "otherqual     -2.8471      0.783     -3.635      0.000      -4.387      -1.307\n",
      "position       6.0142      0.306     19.642      0.000       5.412       6.616\n",
      "male           1.9679      0.562      3.499      0.001       0.862       3.074\n",
      "Field         -0.2474      0.142     -1.745      0.082      -0.526       0.032\n",
      "yearsabs       0.0536      0.014      3.786      0.000       0.026       0.081\n",
      "==============================================================================\n",
      "Omnibus:                       86.258   Durbin-Watson:                   2.026\n",
      "Prob(Omnibus):                  0.000   Jarque-Bera (JB):              187.200\n",
      "Skew:                           1.224   Prob(JB):                     2.24e-41\n",
      "Kurtosis:                       5.555   Cond. No.                     4.38e+05\n",
      "==============================================================================\n",
      "\n",
      "Warnings:\n",
      "[1] Standard Errors assume that the covariance matrix of the errors is correctly specified.\n",
      "[2] The condition number is large, 4.38e+05. This might indicate that there are\n",
      "strong multicollinearity or other numerical problems.\n"
     ]
    }
   ],
   "source": [
    "print_model = model.summary()\n",
    "print(print_model)"
   ]
  },
  {
   "cell_type": "markdown",
   "metadata": {},
   "source": [
    "### Does the model significantly predict the dependent variable? Report the amount of variance explained (R^2) and significance value (p) to support your answer.\n",
    "\n",
    "\n",
    "#### What percentage of the variance in employees’ salaries is accounted for by the number of years they have worked?\n",
    "\n"
   ]
  },
  {
   "cell_type": "code",
   "execution_count": null,
   "metadata": {},
   "outputs": [],
   "source": []
  }
 ],
 "metadata": {
  "kernelspec": {
   "display_name": "Python 3",
   "language": "python",
   "name": "python3"
  },
  "language_info": {
   "codemirror_mode": {
    "name": "ipython",
    "version": 3
   },
   "file_extension": ".py",
   "mimetype": "text/x-python",
   "name": "python",
   "nbconvert_exporter": "python",
   "pygments_lexer": "ipython3",
   "version": "3.6.7"
  }
 },
 "nbformat": 4,
 "nbformat_minor": 2
}
