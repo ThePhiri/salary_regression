{
 "cells": [
  {
   "cell_type": "code",
   "execution_count": 14,
   "metadata": {},
   "outputs": [],
   "source": [
    "import pandas as pd\n",
    "import matplotlib.pyplot as plt   \n",
    "%matplotlib inline\n",
    "import statsmodels.api as sm\n",
    "from sklearn.model_selection import train_test_split\n",
    "import numpy as np"
   ]
  },
  {
   "cell_type": "code",
   "execution_count": 15,
   "metadata": {},
   "outputs": [],
   "source": [
    "df = pd.read_csv('salary.csv')"
   ]
  },
  {
   "cell_type": "code",
   "execution_count": 16,
   "metadata": {},
   "outputs": [],
   "source": [
    "df = df.dropna(how='any',axis=0)"
   ]
  },
  {
   "cell_type": "code",
   "execution_count": 20,
   "metadata": {},
   "outputs": [],
   "source": [
    "train, test = train_test_split(df, test_size=0.3)"
   ]
  },
  {
   "cell_type": "code",
   "execution_count": 24,
   "metadata": {},
   "outputs": [],
   "source": [
    "X_train = train[['salary', 'exprior', 'yearsrank','market', 'degree', 'otherqual', 'position', 'male', 'Field','yearsabs' ]]\n",
    "y_train = train['yearsworked']"
   ]
  },
  {
   "cell_type": "code",
   "execution_count": 25,
   "metadata": {},
   "outputs": [],
   "source": [
    "model = sm.OLS(y_train,X_train).fit()"
   ]
  },
  {
   "cell_type": "code",
   "execution_count": 26,
   "metadata": {},
   "outputs": [
    {
     "name": "stdout",
     "output_type": "stream",
     "text": [
      "                            OLS Regression Results                            \n",
      "==============================================================================\n",
      "Dep. Variable:            yearsworked   R-squared:                       0.966\n",
      "Model:                            OLS   Adj. R-squared:                  0.965\n",
      "Method:                 Least Squares   F-statistic:                     976.8\n",
      "Date:                Wed, 27 Mar 2019   Prob (F-statistic):          2.49e-248\n",
      "Time:                        14:56:49   Log-Likelihood:                -895.70\n",
      "No. Observations:                 359   AIC:                             1811.\n",
      "Df Residuals:                     349   BIC:                             1850.\n",
      "Df Model:                          10                                         \n",
      "Covariance Type:            nonrobust                                         \n",
      "==============================================================================\n",
      "                 coef    std err          t      P>|t|      [0.025      0.975]\n",
      "------------------------------------------------------------------------------\n",
      "salary     -2.916e-05   2.77e-05     -1.051      0.294   -8.37e-05    2.54e-05\n",
      "exprior       -0.5138      0.036    -14.399      0.000      -0.584      -0.444\n",
      "yearsrank      0.7987      0.035     22.612      0.000       0.729       0.868\n",
      "market        -2.6728      1.233     -2.168      0.031      -5.098      -0.248\n",
      "degree        -1.4462      0.818     -1.768      0.078      -3.055       0.162\n",
      "otherqual     -2.0456      0.773     -2.647      0.008      -3.565      -0.526\n",
      "position       5.9950      0.307     19.554      0.000       5.392       6.598\n",
      "male           1.6355      0.532      3.074      0.002       0.589       2.682\n",
      "Field         -0.0503      0.140     -0.359      0.720      -0.326       0.226\n",
      "yearsabs       0.0536      0.012      4.346      0.000       0.029       0.078\n",
      "==============================================================================\n",
      "Omnibus:                      121.041   Durbin-Watson:                   1.998\n",
      "Prob(Omnibus):                  0.000   Jarque-Bera (JB):              387.433\n",
      "Skew:                           1.523   Prob(JB):                     7.41e-85\n",
      "Kurtosis:                       7.077   Cond. No.                     4.37e+05\n",
      "==============================================================================\n",
      "\n",
      "Warnings:\n",
      "[1] Standard Errors assume that the covariance matrix of the errors is correctly specified.\n",
      "[2] The condition number is large, 4.37e+05. This might indicate that there are\n",
      "strong multicollinearity or other numerical problems.\n"
     ]
    }
   ],
   "source": [
    "print_model = model.summary()\n",
    "print(print_model)"
   ]
  },
  {
   "cell_type": "markdown",
   "metadata": {},
   "source": [
    "### Does the model significantly predicts the dependent variable? Report the amount of variance explained (R^2) and significance value (p) to support your answer.\n",
    "\n",
    "The model significantly predicts the dependent variable. This is shown from variance (R^2) 0.967(higher value generally indicates a better fit) with a p value of 0.106(less than 0.05 is considered to be statistically significant)\n",
    "\n",
    "\n",
    "### What percentage of the variance in employees’ salaries is accounted for by the number of years they have worked?\n",
    "90.6%\n",
    "\n"
   ]
  },
  {
   "cell_type": "markdown",
   "metadata": {},
   "source": [
    "### What does the unstandardized coefficient (B or 'coef' in statsmodels) tell you about the relationship between Years Worked and Salary?\n",
    "The coeffecient is -3.787e-05 this means that when salary increases by 1, the number of years worked increases by -3.787e-05"
   ]
  },
  {
   "cell_type": "markdown",
   "metadata": {},
   "source": [
    "### What do the 95% confidence intervals [0.025, 0.975] mean?"
   ]
  },
  {
   "cell_type": "markdown",
   "metadata": {},
   "source": [
    "### Calculate the expected salary for someone with 12 years’ work experience."
   ]
  },
  {
   "cell_type": "code",
   "execution_count": null,
   "metadata": {},
   "outputs": [],
   "source": [
    "xnew = X_train\n",
    "Xnew = sm.add_constant(xnew)\n",
    "ynewpred = model.predict(Xnew)\n",
    "\n",
    "\n",
    "print(ynewpred)"
   ]
  },
  {
   "cell_type": "markdown",
   "metadata": {},
   "source": [
    "### Calculate the expected salary for someone with 80 years’ work experience. Are there any problems with this prediction? If so, what are they?"
   ]
  },
  {
   "cell_type": "markdown",
   "metadata": {},
   "source": [
    "### We have only looked at the number of years an employee has worked. What other employee characteristics might influence their salary?"
   ]
  },
  {
   "cell_type": "markdown",
   "metadata": {},
   "source": [
    "### How does your model compare when running it on the test set - what is the difference in the Root Mean Square Error (RMSE) between the training and test sets?"
   ]
  },
  {
   "cell_type": "code",
   "execution_count": null,
   "metadata": {},
   "outputs": [],
   "source": [
    "test_model = sm.OLS(y_test,X_test).fit()"
   ]
  },
  {
   "cell_type": "code",
   "execution_count": null,
   "metadata": {},
   "outputs": [],
   "source": [
    "print_test_model = test_model.summary()\n",
    "print(print_test_model)"
   ]
  },
  {
   "cell_type": "code",
   "execution_count": null,
   "metadata": {},
   "outputs": [],
   "source": []
  }
 ],
 "metadata": {
  "kernelspec": {
   "display_name": "Python 3",
   "language": "python",
   "name": "python3"
  },
  "language_info": {
   "codemirror_mode": {
    "name": "ipython",
    "version": 3
   },
   "file_extension": ".py",
   "mimetype": "text/x-python",
   "name": "python",
   "nbconvert_exporter": "python",
   "pygments_lexer": "ipython3",
   "version": "3.6.7"
  }
 },
 "nbformat": 4,
 "nbformat_minor": 2
}
