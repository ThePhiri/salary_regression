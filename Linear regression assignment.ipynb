{
 "cells": [
  {
   "cell_type": "code",
   "execution_count": 1,
   "metadata": {},
   "outputs": [],
   "source": [
    "import pandas as pd\n",
    "import matplotlib.pyplot as plt   \n",
    "%matplotlib inline\n",
    "import statsmodels.api as sm\n",
    "from sklearn.model_selection import train_test_split\n",
    "import numpy as np"
   ]
  },
  {
   "cell_type": "code",
   "execution_count": 2,
   "metadata": {},
   "outputs": [],
   "source": [
    "df = pd.read_csv('salary.csv')"
   ]
  },
  {
   "cell_type": "code",
   "execution_count": 3,
   "metadata": {},
   "outputs": [],
   "source": [
    "df = df.dropna(how='any',axis=0)"
   ]
  },
  {
   "cell_type": "code",
   "execution_count": 4,
   "metadata": {},
   "outputs": [],
   "source": [
    "X = df[['salary', 'exprior', 'yearsrank','market', 'degree', 'otherqual', 'position', 'male', 'Field','yearsabs' ]]\n",
    "y = df['yearsworked']"
   ]
  },
  {
   "cell_type": "code",
   "execution_count": 5,
   "metadata": {},
   "outputs": [
    {
     "name": "stderr",
     "output_type": "stream",
     "text": [
      "/home/umuzi/.local/lib/python3.6/site-packages/numpy/core/fromnumeric.py:2389: FutureWarning: Method .ptp is deprecated and will be removed in a future version. Use numpy.ptp instead.\n",
      "  return ptp(axis=axis, out=out, **kwargs)\n"
     ]
    }
   ],
   "source": [
    "X = sm.add_constant(X)"
   ]
  },
  {
   "cell_type": "code",
   "execution_count": 6,
   "metadata": {},
   "outputs": [],
   "source": [
    "X_train, X_test, y_train, y_test = train_test_split(X, y, test_size=0.3)"
   ]
  },
  {
   "cell_type": "code",
   "execution_count": 7,
   "metadata": {},
   "outputs": [],
   "source": [
    "model = sm.OLS(y_train,X_train).fit()"
   ]
  },
  {
   "cell_type": "code",
   "execution_count": 8,
   "metadata": {},
   "outputs": [],
   "source": [
    "predictions = model.predict(X_train)"
   ]
  },
  {
   "cell_type": "code",
   "execution_count": 9,
   "metadata": {},
   "outputs": [
    {
     "name": "stdout",
     "output_type": "stream",
     "text": [
      "                            OLS Regression Results                            \n",
      "==============================================================================\n",
      "Dep. Variable:            yearsworked   R-squared:                       0.906\n",
      "Model:                            OLS   Adj. R-squared:                  0.904\n",
      "Method:                 Least Squares   F-statistic:                     336.6\n",
      "Date:                Wed, 27 Mar 2019   Prob (F-statistic):          3.27e-172\n",
      "Time:                        09:31:54   Log-Likelihood:                -893.96\n",
      "No. Observations:                 359   AIC:                             1810.\n",
      "Df Residuals:                     348   BIC:                             1853.\n",
      "Df Model:                          10                                         \n",
      "Covariance Type:            nonrobust                                         \n",
      "==============================================================================\n",
      "                 coef    std err          t      P>|t|      [0.025      0.975]\n",
      "------------------------------------------------------------------------------\n",
      "const          0.1277      1.595      0.080      0.936      -3.009       3.265\n",
      "salary     -3.638e-05    2.9e-05     -1.254      0.211   -9.35e-05    2.07e-05\n",
      "exprior       -0.5542      0.037    -14.818      0.000      -0.628      -0.481\n",
      "yearsrank      0.8262      0.037     22.574      0.000       0.754       0.898\n",
      "market        -2.6724      1.423     -1.878      0.061      -5.471       0.126\n",
      "degree        -1.4411      0.875     -1.647      0.100      -3.162       0.279\n",
      "otherqual     -2.1863      0.770     -2.838      0.005      -3.701      -0.671\n",
      "position       5.9872      0.322     18.613      0.000       5.355       6.620\n",
      "male           1.7782      0.553      3.215      0.001       0.690       2.866\n",
      "Field         -0.0266      0.160     -0.167      0.868      -0.341       0.288\n",
      "yearsabs       0.0535      0.014      3.854      0.000       0.026       0.081\n",
      "==============================================================================\n",
      "Omnibus:                       97.830   Durbin-Watson:                   1.988\n",
      "Prob(Omnibus):                  0.000   Jarque-Bera (JB):              246.498\n",
      "Skew:                           1.313   Prob(JB):                     2.98e-54\n",
      "Kurtosis:                       6.095   Cond. No.                     6.36e+05\n",
      "==============================================================================\n",
      "\n",
      "Warnings:\n",
      "[1] Standard Errors assume that the covariance matrix of the errors is correctly specified.\n",
      "[2] The condition number is large, 6.36e+05. This might indicate that there are\n",
      "strong multicollinearity or other numerical problems.\n"
     ]
    }
   ],
   "source": [
    "print_model = model.summary()\n",
    "print(print_model)"
   ]
  },
  {
   "cell_type": "markdown",
   "metadata": {},
   "source": [
    "### Does the model significantly predicts the dependent variable? Report the amount of variance explained (R^2) and significance value (p) to support your answer.\n",
    "\n",
    "The model significantly predicts the dependent variable. This is shown from variance (R^2) 0.967(higher value generally indicates a better fit) with a p value of 0.106(less than 0.05 is considered to be statistically significant)\n",
    "\n",
    "\n",
    "### What percentage of the variance in employees’ salaries is accounted for by the number of years they have worked?\n",
    "90.6%\n",
    "\n"
   ]
  },
  {
   "cell_type": "markdown",
   "metadata": {},
   "source": [
    "### What does the unstandardized coefficient (B or 'coef' in statsmodels) tell you about the relationship between Years Worked and Salary?\n",
    "The coeffecient is -3.787e-05 this means that when salary increases by 1, the number of years worked increases by -3.787e-05"
   ]
  },
  {
   "cell_type": "markdown",
   "metadata": {},
   "source": [
    "### What do the 95% confidence intervals [0.025, 0.975] mean?"
   ]
  },
  {
   "cell_type": "markdown",
   "metadata": {},
   "source": [
    "### Calculate the expected salary for someone with 12 years’ work experience."
   ]
  },
  {
   "cell_type": "markdown",
   "metadata": {},
   "source": [
    "### Calculate the expected salary for someone with 80 years’ work experience. Are there any problems with this prediction? If so, what are they?"
   ]
  },
  {
   "cell_type": "markdown",
   "metadata": {},
   "source": [
    "### We have only looked at the number of years an employee has worked. What other employee characteristics might influence their salary?"
   ]
  },
  {
   "cell_type": "markdown",
   "metadata": {},
   "source": [
    "### How does your model compare when running it on the test set - what is the difference in the Root Mean Square Error (RMSE) between the training and test sets?"
   ]
  },
  {
   "cell_type": "code",
   "execution_count": 10,
   "metadata": {},
   "outputs": [],
   "source": [
    "test_model = sm.OLS(y_test,X_test).fit()"
   ]
  },
  {
   "cell_type": "code",
   "execution_count": 11,
   "metadata": {},
   "outputs": [
    {
     "name": "stdout",
     "output_type": "stream",
     "text": [
      "                            OLS Regression Results                            \n",
      "==============================================================================\n",
      "Dep. Variable:            yearsworked   R-squared:                       0.911\n",
      "Model:                            OLS   Adj. R-squared:                  0.905\n",
      "Method:                 Least Squares   F-statistic:                     146.7\n",
      "Date:                Wed, 27 Mar 2019   Prob (F-statistic):           5.72e-70\n",
      "Time:                        09:31:54   Log-Likelihood:                -373.77\n",
      "No. Observations:                 154   AIC:                             769.5\n",
      "Df Residuals:                     143   BIC:                             802.9\n",
      "Df Model:                          10                                         \n",
      "Covariance Type:            nonrobust                                         \n",
      "==============================================================================\n",
      "                 coef    std err          t      P>|t|      [0.025      0.975]\n",
      "------------------------------------------------------------------------------\n",
      "const         -1.7179      2.448     -0.702      0.484      -6.556       3.120\n",
      "salary     -4.377e-05   4.08e-05     -1.073      0.285      -0.000    3.68e-05\n",
      "exprior       -0.4772      0.052     -9.150      0.000      -0.580      -0.374\n",
      "yearsrank      0.7330      0.049     14.986      0.000       0.636       0.830\n",
      "market        -0.7328      2.214     -0.331      0.741      -5.108       3.643\n",
      "degree        -1.2772      1.380     -0.926      0.356      -4.005       1.450\n",
      "otherqual     -2.4666      1.761     -1.401      0.163      -5.947       1.014\n",
      "position       6.4214      0.463     13.881      0.000       5.507       7.336\n",
      "male           1.7101      0.732      2.336      0.021       0.263       3.157\n",
      "Field         -0.1270      0.253     -0.502      0.616      -0.627       0.373\n",
      "yearsabs       0.0566      0.017      3.372      0.001       0.023       0.090\n",
      "==============================================================================\n",
      "Omnibus:                       59.980   Durbin-Watson:                   2.138\n",
      "Prob(Omnibus):                  0.000   Jarque-Bera (JB):              161.652\n",
      "Skew:                           1.603   Prob(JB):                     7.90e-36\n",
      "Kurtosis:                       6.862   Cond. No.                     6.83e+05\n",
      "==============================================================================\n",
      "\n",
      "Warnings:\n",
      "[1] Standard Errors assume that the covariance matrix of the errors is correctly specified.\n",
      "[2] The condition number is large, 6.83e+05. This might indicate that there are\n",
      "strong multicollinearity or other numerical problems.\n"
     ]
    }
   ],
   "source": [
    "print_test_model = test_model.summary()\n",
    "print(print_test_model)"
   ]
  },
  {
   "cell_type": "code",
   "execution_count": null,
   "metadata": {},
   "outputs": [],
   "source": []
  }
 ],
 "metadata": {
  "kernelspec": {
   "display_name": "Python 3",
   "language": "python",
   "name": "python3"
  },
  "language_info": {
   "codemirror_mode": {
    "name": "ipython",
    "version": 3
   },
   "file_extension": ".py",
   "mimetype": "text/x-python",
   "name": "python",
   "nbconvert_exporter": "python",
   "pygments_lexer": "ipython3",
   "version": "3.6.7"
  }
 },
 "nbformat": 4,
 "nbformat_minor": 2
}
